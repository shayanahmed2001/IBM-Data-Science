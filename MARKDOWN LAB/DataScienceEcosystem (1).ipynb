{
  "cells": [
    {
      "cell_type": "markdown",
      "id": "e75244ab",
      "metadata": {
        "id": "e75244ab"
      },
      "source": [
        "<center>\n",
        "    <img src=\"https://cf-courses-data.s3.us.cloud-object-storage.appdomain.cloud/IBMDeveloperSkillsNetwork-DS0105EN-SkillsNetwork/labs/Module2/images/SN_web_lightmode.png\" width=\"300\" alt=\"cognitiveclass.ai logo\">\n",
        "</center>"
      ]
    },
    {
      "cell_type": "markdown",
      "id": "a2575260",
      "metadata": {
        "id": "a2575260"
      },
      "source": [
        "#### Add your code below following the instructions given in the course"
      ]
    },
    {
      "cell_type": "markdown",
      "id": "9282a37f",
      "metadata": {
        "id": "9282a37f"
      },
      "source": [
        "# Data Science Tools and Ecosystem"
      ]
    },
    {
      "cell_type": "markdown",
      "id": "958288a5",
      "metadata": {
        "id": "958288a5"
      },
      "source": [
        "In this notebook, Data Science Tools and Ecosystem are summarized."
      ]
    },
    {
      "cell_type": "markdown",
      "id": "aa760ec2",
      "metadata": {
        "id": "aa760ec2"
      },
      "source": [
        "Some of the popular languages that Data Scientists use are:\n",
        "1. Python\n",
        "2. R\n",
        "3. SQL"
      ]
    },
    {
      "cell_type": "markdown",
      "id": "94feab66",
      "metadata": {
        "id": "94feab66"
      },
      "source": [
        "Some of the commonly used libraries used by Data Scientists include:\n",
        "1. Pandas\n",
        "2. NumPy\n",
        "3. Matplotlib"
      ]
    },
    {
      "cell_type": "markdown",
      "id": "deec0b85",
      "metadata": {
        "id": "deec0b85"
      },
      "source": [
        "| Data Science Tools |\n",
        "| -------------|\n",
        "| Jupyter Notebook |\n",
        "| RStudio |\n",
        "| Spyder |"
      ]
    },
    {
      "cell_type": "markdown",
      "id": "f586a8e8",
      "metadata": {
        "id": "f586a8e8"
      },
      "source": [
        "### Below are a few examples of evaluating arithmetic expressions in Python"
      ]
    },
    {
      "cell_type": "code",
      "execution_count": null,
      "id": "46d6b5b2",
      "metadata": {
        "id": "46d6b5b2",
        "outputId": "e4b41ea4-0c9a-4ac8-84fb-1b6f74b0d05f"
      },
      "outputs": [
        {
          "data": {
            "text/plain": [
              "17"
            ]
          },
          "execution_count": 1,
          "metadata": {},
          "output_type": "execute_result"
        }
      ],
      "source": [
        "# This a simple arithmetic expression to mutiply then add integers\n",
        "(3*4)+5"
      ]
    },
    {
      "cell_type": "code",
      "execution_count": null,
      "id": "c333b9dc",
      "metadata": {
        "id": "c333b9dc",
        "outputId": "3db50655-d843-4b09-912d-5779408aa582"
      },
      "outputs": [
        {
          "name": "stdout",
          "output_type": "stream",
          "text": [
            "3.3333333333333335\n"
          ]
        }
      ],
      "source": [
        "min = 200\n",
        "#This will convert 200 minutes to hours by diving by 60\n",
        "hrs = 200/60\n",
        "print(hrs)"
      ]
    },
    {
      "cell_type": "markdown",
      "id": "0578087c",
      "metadata": {
        "id": "0578087c"
      },
      "source": [
        "**Objectives:**\n",
        "- List popular languages for Data Science\n",
        "- List popular tools for Data Science\n",
        "- List popular libaries for Data Science"
      ]
    },
    {
      "cell_type": "markdown",
      "id": "0c865d8c",
      "metadata": {
        "id": "0c865d8c"
      },
      "source": [
        "## Author\n",
        "Shayan Ahmed"
      ]
    },
    {
      "cell_type": "code",
      "execution_count": null,
      "id": "29b65e47",
      "metadata": {
        "id": "29b65e47"
      },
      "outputs": [],
      "source": []
    }
  ],
  "metadata": {
    "kernelspec": {
      "display_name": "LAB2",
      "language": "python",
      "name": "lab2"
    },
    "language_info": {
      "codemirror_mode": {
        "name": "ipython",
        "version": 3
      },
      "file_extension": ".py",
      "mimetype": "text/x-python",
      "name": "python",
      "nbconvert_exporter": "python",
      "pygments_lexer": "ipython3",
      "version": "3.6.13"
    },
    "colab": {
      "provenance": []
    }
  },
  "nbformat": 4,
  "nbformat_minor": 5
}